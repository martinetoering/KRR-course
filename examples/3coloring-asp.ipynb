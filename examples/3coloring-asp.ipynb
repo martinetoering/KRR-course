{
 "cells": [
  {
   "cell_type": "markdown",
   "metadata": {},
   "source": [
    "# Solving the problem of 3-coloring using ASP\n",
    "\n",
    "This is a small example to show how you can encode the problem of [3-coloring](https://en.wikipedia.org/wiki/Graph_coloring#Vertex_coloring) into ASP and using an ASP solver to solve the problem.\n",
    "\n",
    "We will use [clingo](https://potassco.org/clingo/) in Python for this. Have a look at [these instructions](asp.ipynb) to see how you can use clingo from Python.\n",
    "\n",
    "Let's start off with an empty string, that we will fill with an answer set program."
   ]
  },
  {
   "cell_type": "code",
   "execution_count": 1,
   "metadata": {},
   "outputs": [],
   "source": [
    "import clingo\n",
    "\n",
    "asp_code = \"\";"
   ]
  },
  {
   "cell_type": "markdown",
   "metadata": {},
   "source": [
    "## 3-coloring\n",
    "\n",
    "In the problem of 3-coloring, you are given as input a finite (undirected) [graph](https://en.wikipedia.org/wiki/Graph_(discrete_mathematics)) $G = (V,E)$, consisting of a set $V$ of *vertices* (or *nodes*) and a set $E$ of *edges*. Each edge $e \\in E$ consists of a set $\\{v_1,v_2\\}$ of exactly two vertices in $V$.\n",
    "\n",
    "A *coloring* of a graph $G = (V,E)$ is a function $\\mu : V \\rightarrow C$ that assigns to each vertex $v \\in V$ a color $\\mu(v) \\in C$. The coloring $\\mu$ is called *proper* if for every edge $\\{v_1,v_2\\} \\in E$, the coloring assigns different colors to the two endpoints of the edge—that is, $\\mu(v_1) \\neq \\mu(v_2)$.\n",
    "\n",
    "In the problem of 3-coloring, the question is to decide if there exists a proper coloring $\\mu : V \\rightarrow \\{1,2,3\\}$ of the graph that only uses three colors.\n",
    "\n",
    "## Encoding graphs in ASP\n",
    "\n",
    "To encode this problem in ASP, we first show how to encode a given graph in ASP.\n",
    "\n",
    "Take the following example graph $G = (V,E)$, where $V = \\{v_1,v_2,v_3,v_4\\}$ and $E = \\{ \\{v_1,v_2\\}, \\{v_1,v_3\\}, \\{v_2,v_3\\}, \\{v_2,v_4\\}, \\{v_3,v_4\\} \\}$. We can encode this in ASP using predicates `vertex/1` and `edge/2` as follows."
   ]
  },
  {
   "cell_type": "code",
   "execution_count": 2,
   "metadata": {},
   "outputs": [],
   "source": [
    "asp_code += \"\"\"\n",
    "    vertex(v1).\n",
    "    vertex(v2).\n",
    "    vertex(v3).\n",
    "    vertex(v4).\n",
    "    edge(v1,v2).\n",
    "    edge(v1,v3).\n",
    "    edge(v2,v3).\n",
    "    edge(v2,v4).\n",
    "    edge(v3,v4).\n",
    "\"\"\";"
   ]
  },
  {
   "cell_type": "markdown",
   "metadata": {},
   "source": [
    "## Guessing a 3-coloring\n",
    "\n",
    "We will use a guess-and-check approach to model the problem of 3-coloring. In particular, we will add some rules to the answer set program that will guess a coloring, and then after that we will add some constraints that ensure that the coloring that we guessed is proper.\n",
    "\n",
    "We guess the 3-coloring as follows:"
   ]
  },
  {
   "cell_type": "code",
   "execution_count": 3,
   "metadata": {},
   "outputs": [],
   "source": [
    "asp_code += \"\"\"\n",
    "    color(V,1) :- vertex(V), not color(V,2), not color(V,3).\n",
    "    color(V,2) :- vertex(V), not color(V,1), not color(V,3).\n",
    "    color(V,3) :- vertex(V), not color(V,1), not color(V,2).\n",
    "\"\"\""
   ]
  },
  {
   "cell_type": "markdown",
   "metadata": {},
   "source": [
    "## Verifying that the coloring is proper\n",
    "\n",
    "We now add constraints expressing that the guessed color for any two vertices that are connected by an edge must be different:"
   ]
  },
  {
   "cell_type": "code",
   "execution_count": 4,
   "metadata": {},
   "outputs": [],
   "source": [
    "asp_code += \"\"\"\n",
    "    :- edge(V1,V2), color(V1,C), color(V2,C).\n",
    "\"\"\""
   ]
  },
  {
   "cell_type": "markdown",
   "metadata": {},
   "source": [
    "## Showing the coloring\n",
    "\n",
    "Finally, we add a `#show` statement that indicates that we are only interested in the predicate `color/2`, and we ask clingo to print out all proper 3-colorings of the graph."
   ]
  },
  {
   "cell_type": "code",
   "execution_count": 5,
   "metadata": {},
   "outputs": [
    {
     "name": "stdout",
     "output_type": "stream",
     "text": [
      "[color(v1,3), color(v2,1), color(v3,2), color(v4,3)]\n",
      "[color(v1,2), color(v2,1), color(v3,3), color(v4,2)]\n",
      "[color(v1,1), color(v2,3), color(v3,2), color(v4,1)]\n",
      "[color(v1,2), color(v2,3), color(v3,1), color(v4,2)]\n",
      "[color(v1,1), color(v2,2), color(v3,3), color(v4,1)]\n",
      "[color(v1,3), color(v2,2), color(v3,1), color(v4,3)]\n",
      "The graph is 3-colorable\n"
     ]
    }
   ],
   "source": [
    "asp_code += \"\"\"\n",
    "    #show color/2.\n",
    "\"\"\"\n",
    "\n",
    "control = clingo.Control();\n",
    "control.add(\"base\", [], asp_code);\n",
    "control.ground([(\"base\", [])])\n",
    "\n",
    "def on_model(model):\n",
    "    print(model.symbols(shown=True));\n",
    "\n",
    "control.configuration.solve.models = 0;\n",
    "answer = control.solve(on_model=on_model)\n",
    "\n",
    "if answer.satisfiable == True:\n",
    "    print(\"The graph is 3-colorable\");\n",
    "else:\n",
    "    print(\"The graph is not 3-colorable\");"
   ]
  }
 ],
 "metadata": {
  "kernelspec": {
   "display_name": "Python 3",
   "language": "python",
   "name": "python3"
  },
  "language_info": {
   "codemirror_mode": {
    "name": "ipython",
    "version": 3
   },
   "file_extension": ".py",
   "mimetype": "text/x-python",
   "name": "python",
   "nbconvert_exporter": "python",
   "pygments_lexer": "ipython3",
   "version": "3.7.7"
  }
 },
 "nbformat": 4,
 "nbformat_minor": 4
}
