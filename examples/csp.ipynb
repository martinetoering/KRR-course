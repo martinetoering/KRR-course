{
 "cells": [
  {
   "cell_type": "markdown",
   "metadata": {},
   "source": [
    "# CSP solving in Python\n",
    "\n",
    "This is a small example to show how to use Google's [OR-Tools](https://developers.google.com/optimization/introduction/overview) in Python to solve CSP problems.\n",
    "\n",
    "First, install ortools, e.g., using:\n",
    "`python -m pip install --upgrade --user ortools`\n",
    "\n",
    "Let's start with importing some relevant things from the ortools library: "
   ]
  },
  {
   "cell_type": "code",
   "execution_count": 1,
   "metadata": {},
   "outputs": [],
   "source": [
    "from ortools.sat.python import cp_model"
   ]
  },
  {
   "cell_type": "markdown",
   "metadata": {},
   "source": [
    "We will then create a CSP model, and add some variables and constraints to it.\n",
    "\n",
    "Let's take a simple example."
   ]
  },
  {
   "cell_type": "code",
   "execution_count": 2,
   "metadata": {},
   "outputs": [],
   "source": [
    "# Create model\n",
    "model = cp_model.CpModel();\n",
    "\n",
    "# Add integer variables with lower bound 0 and upper bound 2\n",
    "x = model.NewIntVar(0, 2, 'x')\n",
    "y = model.NewIntVar(0, 2, 'y')\n",
    "z = model.NewIntVar(0, 2, 'z')\n",
    "\n",
    "# Add constraints\n",
    "model.AddAllDifferent([x,y,z]); \n",
    "model.Add(x != 1);\n",
    "model.Add(z != 2);"
   ]
  },
  {
   "cell_type": "markdown",
   "metadata": {},
   "source": [
    "We then create a solver object, and ask it to solve the CSP model."
   ]
  },
  {
   "cell_type": "code",
   "execution_count": 3,
   "metadata": {},
   "outputs": [],
   "source": [
    "solver = cp_model.CpSolver();\n",
    "answer = solver.Solve(model);    "
   ]
  },
  {
   "cell_type": "markdown",
   "metadata": {},
   "source": [
    "If the solver found a model, we can access it as follows:"
   ]
  },
  {
   "cell_type": "code",
   "execution_count": 4,
   "metadata": {},
   "outputs": [
    {
     "name": "stdout",
     "output_type": "stream",
     "text": [
      "x = 0\n",
      "y = 2\n",
      "z = 1\n"
     ]
    }
   ],
   "source": [
    "if answer == cp_model.FEASIBLE:\n",
    "    print(\"x = {}\".format(solver.Value(x)));\n",
    "    print(\"y = {}\".format(solver.Value(y)));\n",
    "    print(\"z = {}\".format(solver.Value(z)));\n",
    "else:\n",
    "    print(\"Did not find a model!\");"
   ]
  },
  {
   "cell_type": "markdown",
   "metadata": {},
   "source": [
    "For more information, see the [documentation](https://developers.google.com/optimization/cp/cp_solver) of the CP-SAT Solver."
   ]
  }
 ],
 "metadata": {
  "kernelspec": {
   "display_name": "Python 3",
   "language": "python",
   "name": "python3"
  },
  "language_info": {
   "codemirror_mode": {
    "name": "ipython",
    "version": 3
   },
   "file_extension": ".py",
   "mimetype": "text/x-python",
   "name": "python",
   "nbconvert_exporter": "python",
   "pygments_lexer": "ipython3",
   "version": "3.7.4"
  }
 },
 "nbformat": 4,
 "nbformat_minor": 4
}
