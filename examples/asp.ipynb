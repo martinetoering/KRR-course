{
 "cells": [
  {
   "cell_type": "markdown",
   "metadata": {},
   "source": [
    "# ASP solving with clingo in Python\n",
    "\n",
    "This is a small example to show how you can do Answer Set Programming with [clingo](https://potassco.org/clingo/) (part of the Potsdam Answer Set Solving Collection; or *Potassco*, for short) in Python.\n",
    "\n",
    "First, install clingo, e.g., using:\n",
    "`conda install -c potassco clingo`\n",
    "\n",
    "To use clingo in Python, import the clingo package."
   ]
  },
  {
   "cell_type": "code",
   "execution_count": 1,
   "metadata": {},
   "outputs": [],
   "source": [
    "import clingo"
   ]
  },
  {
   "cell_type": "markdown",
   "metadata": {},
   "source": [
    "You can then write an answer set program as a string.\n",
    "\n",
    "For an explanation of the syntax of answer set programs (that clingo uses) and for examples, see Potassco's [Getting Started page](https://potassco.org/doc/start/) and their [guide](https://github.com/potassco/guide/releases/tag/v2.2.0).\n",
    "\n",
    "Let's take the following simple example."
   ]
  },
  {
   "cell_type": "code",
   "execution_count": 2,
   "metadata": {},
   "outputs": [],
   "source": [
    "asp_program = \"\"\"#const k=3.\n",
    "number(1..k).\n",
    "left(X) :- not right(X), number(X).\n",
    "right(X) :- not left(X), number(X).\n",
    ":- right(2).\"\"\";"
   ]
  },
  {
   "cell_type": "markdown",
   "metadata": {},
   "source": [
    "We then create a clingo Control object, load the answer set program, and do the grounding (compiling away variables)."
   ]
  },
  {
   "cell_type": "code",
   "execution_count": 3,
   "metadata": {},
   "outputs": [],
   "source": [
    "control = clingo.Control();\n",
    "control.add(\"base\", [], asp_program);\n",
    "control.ground([(\"base\", [])])"
   ]
  },
  {
   "cell_type": "markdown",
   "metadata": {},
   "source": [
    "Before we ask clingo to find models (answer sets) for our program, we define a function `on_model` that will be called for each model.\n",
    "\n",
    "For this example, we let this function just print the model."
   ]
  },
  {
   "cell_type": "code",
   "execution_count": 4,
   "metadata": {},
   "outputs": [],
   "source": [
    "def on_model(model):\n",
    "    for atom in model.symbols(atoms=True):\n",
    "        print(\"Atom with name {} and arguments {} is true in the model: {}\".format(atom.name, atom.arguments, atom));"
   ]
  },
  {
   "cell_type": "markdown",
   "metadata": {},
   "source": [
    "We then ask clingo to find a single model for our program, and to call `on_model` on this model when it is found."
   ]
  },
  {
   "cell_type": "code",
   "execution_count": 5,
   "metadata": {},
   "outputs": [
    {
     "name": "stdout",
     "output_type": "stream",
     "text": [
      "Atom with name number and arguments [1] is true in the model: number(1)\n",
      "Atom with name number and arguments [2] is true in the model: number(2)\n",
      "Atom with name number and arguments [3] is true in the model: number(3)\n",
      "Atom with name right and arguments [1] is true in the model: right(1)\n",
      "Atom with name right and arguments [3] is true in the model: right(3)\n",
      "Atom with name left and arguments [2] is true in the model: left(2)\n"
     ]
    }
   ],
   "source": [
    "control.configuration.solve.models = 1; # use 0 if you want to find all models\n",
    "answer = control.solve(on_model=on_model)"
   ]
  },
  {
   "cell_type": "markdown",
   "metadata": {},
   "source": [
    "We can check whether `solve` found a model or not:"
   ]
  },
  {
   "cell_type": "code",
   "execution_count": 6,
   "metadata": {},
   "outputs": [
    {
     "name": "stdout",
     "output_type": "stream",
     "text": [
      "Found a model!\n"
     ]
    }
   ],
   "source": [
    "if answer.satisfiable == True:\n",
    "    print(\"Found a model!\");\n",
    "else:\n",
    "    print(\"Did not find a model!\");"
   ]
  },
  {
   "cell_type": "markdown",
   "metadata": {},
   "source": [
    "For more information, see the [clingo Python API](https://potassco.org/clingo/python-api/5.4/)."
   ]
  }
 ],
 "metadata": {
  "kernelspec": {
   "display_name": "Python 3",
   "language": "python",
   "name": "python3"
  },
  "language_info": {
   "codemirror_mode": {
    "name": "ipython",
    "version": 3
   },
   "file_extension": ".py",
   "mimetype": "text/x-python",
   "name": "python",
   "nbconvert_exporter": "python",
   "pygments_lexer": "ipython3",
   "version": "3.7.7"
  }
 },
 "nbformat": 4,
 "nbformat_minor": 4
}
