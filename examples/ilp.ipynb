{
 "cells": [
  {
   "cell_type": "markdown",
   "metadata": {},
   "source": [
    "# ILP solving in Python\n",
    "\n",
    "This is a small example to show how you use the [Gurobi Optimizer](https://www.gurobi.com/) using Python to do ILP solving.\n",
    "\n",
    "First, [install Gurobi](https://www.gurobi.com/downloads/) (e.g., using `conda install -c gurobi gurobi`). Get a [(free academic) license](https://www.gurobi.com/academia/academic-program-and-licenses/), and then install the license using `grbgetkey` (e.g., with `grbgetkey ae36ac20-16e6-acd2-f242-4da6e765fa0a`, where `ae...0a` is replaced by your license number).\n",
    "\n",
    "Let's start with importing the gurobipy library: "
   ]
  },
  {
   "cell_type": "code",
   "execution_count": 1,
   "metadata": {},
   "outputs": [],
   "source": [
    "import gurobipy as gp\n",
    "from gurobipy import GRB"
   ]
  },
  {
   "cell_type": "markdown",
   "metadata": {},
   "source": [
    "We will then create an optimization model, add some binary integer variables to the model, and add some linear constraints to the model."
   ]
  },
  {
   "cell_type": "code",
   "execution_count": null,
   "metadata": {},
   "outputs": [],
   "source": [
    "# Create a model\n",
    "model = gp.Model();\n",
    "\n",
    "# Add binary variables v[0], v[1], v[2], v[3]\n",
    "v = model.addVars(4, vtype=GRB.BINARY, name=\"v\");\n",
    "\n",
    "# Add some constraints\n",
    "model.addConstr(v[0] + 2 * v[2] + 3 * v[3] <= 4, \"constr0\");\n",
    "model.addConstr(gp.quicksum([v[i] for i in [0,1]]) == 1, \"constr1\");"
   ]
  },
  {
   "cell_type": "markdown",
   "metadata": {},
   "source": [
    "We can also set an optimization objective. In this case, let's add the assignment to maximize the sum v[1] + v[2] + v[3]."
   ]
  },
  {
   "cell_type": "code",
   "execution_count": 3,
   "metadata": {},
   "outputs": [],
   "source": [
    "# Add maximization objective\n",
    "model.setObjective(gp.quicksum([v[i] for i in [1,2,3]]), GRB.MAXIMIZE);"
   ]
  },
  {
   "cell_type": "markdown",
   "metadata": {},
   "source": [
    "Now, let's call the solver to find a model that satisfies the constraints and achieves the optimization objective."
   ]
  },
  {
   "cell_type": "code",
   "execution_count": null,
   "metadata": {
    "scrolled": false
   },
   "outputs": [],
   "source": [
    "model.optimize();"
   ]
  },
  {
   "cell_type": "markdown",
   "metadata": {},
   "source": [
    "If `model.optimize()` found an (optimal) model, we can access it as follows, for example:"
   ]
  },
  {
   "cell_type": "code",
   "execution_count": 5,
   "metadata": {
    "scrolled": false
   },
   "outputs": [
    {
     "name": "stdout",
     "output_type": "stream",
     "text": [
      "v[0]: 0.0\n",
      "v[1]: 1.0\n",
      "v[2]: 1.0\n",
      "v[3]: 0.0\n"
     ]
    }
   ],
   "source": [
    "if model.status == GRB.OPTIMAL:\n",
    "    for v in model.getVars():\n",
    "        print(\"{}: {}\".format(v.varName, v.x));\n",
    "else:\n",
    "    print(\"No optimal model found!\");"
   ]
  },
  {
   "cell_type": "markdown",
   "metadata": {},
   "source": [
    "For more information, see the [Gurobi documentation](https://www.gurobi.com/documentation/)."
   ]
  }
 ],
 "metadata": {
  "kernelspec": {
   "display_name": "Python 3",
   "language": "python",
   "name": "python3"
  },
  "language_info": {
   "codemirror_mode": {
    "name": "ipython",
    "version": 3
   },
   "file_extension": ".py",
   "mimetype": "text/x-python",
   "name": "python",
   "nbconvert_exporter": "python",
   "pygments_lexer": "ipython3",
   "version": "3.7.7"
  }
 },
 "nbformat": 4,
 "nbformat_minor": 4
}
