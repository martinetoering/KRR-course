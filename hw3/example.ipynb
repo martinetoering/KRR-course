{
 "cells": [
  {
   "cell_type": "markdown",
   "metadata": {},
   "source": [
    "# Example for a planning problem and a plan\n",
    "\n",
    "Here is a brief example for how to use the classes `PlanningProblem` and `Action` to represent a planning problem, and to verify that a given plan achieves the goals for it.\n",
    "\n",
    "Let's start by importing some things from [planning.py](planning.py)."
   ]
  },
  {
   "cell_type": "code",
   "execution_count": 1,
   "metadata": {},
   "outputs": [],
   "source": [
    "from planning import PlanningProblem, Action, Expr, expr\n",
    "import planning"
   ]
  },
  {
   "cell_type": "markdown",
   "metadata": {},
   "source": [
    "Then let's specify an example planning problem.\n",
    "\n",
    "We give the initial state and the goals as strings (which will be automatically converted to a list of `Expr` objects). Similarly, for the single action in this planning problem, we specify the precondition and the effects as a string (which will be automatically converted to a list of `Expr` objects).\n",
    "\n",
    "After specifying the planning problem, we inspect its initial state."
   ]
  },
  {
   "cell_type": "code",
   "execution_count": 2,
   "metadata": {},
   "outputs": [
    {
     "data": {
      "text/plain": [
       "[Object(Book),\n",
       " Object(Glasses),\n",
       " Location(Room1),\n",
       " Location(Room2),\n",
       " At(Book, Room1),\n",
       " At(Glasses, Room1)]"
      ]
     },
     "execution_count": 2,
     "metadata": {},
     "output_type": "execute_result"
    }
   ],
   "source": [
    "planning_problem = PlanningProblem(\n",
    "  initial = 'Object(Book) & Object(Glasses) & Location(Room1) & Location(Room2) & At(Book,Room1) & At(Glasses,Room1)',\n",
    "  goals = 'At(Book,Room2) & At(Glasses,Room2)',\n",
    "  actions = [Action(\n",
    "      'Move(x, a, b)',\n",
    "      precond='Object(x) & Location(a) & Location(b) & At(x, a) & ~At(x, b)',\n",
    "      effect='At(x, b) & ~At(x, a)'\n",
    "    )]  \n",
    ");\n",
    "\n",
    "planning_problem.initial"
   ]
  },
  {
   "cell_type": "markdown",
   "metadata": {},
   "source": [
    "Now let's apply an action instance (given by `expr('Move(Book,Room1,Room2)')`) to this planning problem.\n",
    "\n",
    "This results in a new planning problem, where the initial state has changed (reflecting the application of the action)."
   ]
  },
  {
   "cell_type": "code",
   "execution_count": 3,
   "metadata": {},
   "outputs": [
    {
     "data": {
      "text/plain": [
       "[Object(Book),\n",
       " Object(Glasses),\n",
       " Location(Room1),\n",
       " Location(Room2),\n",
       " At(Glasses, Room1),\n",
       " At(Book, Room2)]"
      ]
     },
     "execution_count": 3,
     "metadata": {},
     "output_type": "execute_result"
    }
   ],
   "source": [
    "planning_problem.act(expr('Move(Book,Room1,Room2)'));\n",
    "planning_problem.initial"
   ]
  },
  {
   "cell_type": "markdown",
   "metadata": {},
   "source": [
    "**Note:** after applying the method `act()`, the `PlanningProblem` object changed (in particular, it now has a different initial state).\n",
    "\n",
    "Let's now '`Move`' the '`Book`' back from '`Room2`' to '`Room1`', and see what the initial state of the resulting planning problem looks like after this."
   ]
  },
  {
   "cell_type": "code",
   "execution_count": 4,
   "metadata": {},
   "outputs": [
    {
     "data": {
      "text/plain": [
       "[Object(Book),\n",
       " Object(Glasses),\n",
       " Location(Room1),\n",
       " Location(Room2),\n",
       " At(Glasses, Room1),\n",
       " At(Book, Room1)]"
      ]
     },
     "execution_count": 4,
     "metadata": {},
     "output_type": "execute_result"
    }
   ],
   "source": [
    "planning_problem.act(expr('Move(Book,Room2,Room1)'));\n",
    "planning_problem.initial"
   ]
  },
  {
   "cell_type": "markdown",
   "metadata": {},
   "source": [
    "If we try to apply an action where the preconditions are not satisfied, we get an error:"
   ]
  },
  {
   "cell_type": "code",
   "execution_count": 5,
   "metadata": {},
   "outputs": [
    {
     "name": "stdout",
     "output_type": "stream",
     "text": [
      "Exception: Action 'Move(Book, Room2, Room1)' pre-conditions not satisfied\n"
     ]
    }
   ],
   "source": [
    "try:\n",
    "    planning_problem.act(expr('Move(Book,Room2,Room1)'));\n",
    "except Exception as e:\n",
    "    print(\"Exception: {}\".format(e));"
   ]
  },
  {
   "cell_type": "markdown",
   "metadata": {},
   "source": [
    "For this simple planning problem, it is easy to see how to reach the goals. Let's make a plan, consisting of a list of `Expr` objects specifying which action instances to apply, and verify that this is a correct plan."
   ]
  },
  {
   "cell_type": "code",
   "execution_count": 6,
   "metadata": {},
   "outputs": [
    {
     "data": {
      "text/plain": [
       "True"
      ]
     },
     "execution_count": 6,
     "metadata": {},
     "output_type": "execute_result"
    }
   ],
   "source": [
    "plan = [expr('Move(Book,Room1,Room2)'), expr('Move(Glasses,Room1,Room2)')];\n",
    "\n",
    "for action in plan:\n",
    "    planning_problem.act(action);\n",
    "planning_problem.goal_test()"
   ]
  }
 ],
 "metadata": {
  "kernelspec": {
   "display_name": "Python 3",
   "language": "python",
   "name": "python3"
  },
  "language_info": {
   "codemirror_mode": {
    "name": "ipython",
    "version": 3
   },
   "file_extension": ".py",
   "mimetype": "text/x-python",
   "name": "python",
   "nbconvert_exporter": "python",
   "pygments_lexer": "ipython3",
   "version": "3.7.7"
  }
 },
 "nbformat": 4,
 "nbformat_minor": 4
}
